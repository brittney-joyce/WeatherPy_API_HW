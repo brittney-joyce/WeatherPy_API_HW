{
 "cells": [
  {
   "cell_type": "code",
   "execution_count": 149,
   "metadata": {},
   "outputs": [],
   "source": [
    "# Dependencies\n",
    "import pandas as pd\n",
    "import numpy as no\n",
    "import json\n",
    "import csv\n",
    "import requests\n",
    "import os\n",
    "import matplotlib.pyplot as plt\n",
    "import citipy as citipy\n",
    "from config import api_key1"
   ]
  },
  {
   "cell_type": "code",
   "execution_count": null,
   "metadata": {
    "scrolled": false
   },
   "outputs": [],
   "source": []
  },
  {
   "cell_type": "code",
   "execution_count": 150,
   "metadata": {},
   "outputs": [
    {
     "data": {
      "text/html": [
       "<div>\n",
       "<style scoped>\n",
       "    .dataframe tbody tr th:only-of-type {\n",
       "        vertical-align: middle;\n",
       "    }\n",
       "\n",
       "    .dataframe tbody tr th {\n",
       "        vertical-align: top;\n",
       "    }\n",
       "\n",
       "    .dataframe thead th {\n",
       "        text-align: right;\n",
       "    }\n",
       "</style>\n",
       "<table border=\"1\" class=\"dataframe\">\n",
       "  <thead>\n",
       "    <tr style=\"text-align: right;\">\n",
       "      <th></th>\n",
       "      <th>Country</th>\n",
       "      <th>City</th>\n",
       "      <th>Latitude</th>\n",
       "      <th>Longitude</th>\n",
       "    </tr>\n",
       "  </thead>\n",
       "  <tbody>\n",
       "    <tr>\n",
       "      <th>38088</th>\n",
       "      <td>ru</td>\n",
       "      <td>shalushka</td>\n",
       "      <td>43.532500</td>\n",
       "      <td>43.566111</td>\n",
       "    </tr>\n",
       "    <tr>\n",
       "      <th>5842</th>\n",
       "      <td>cn</td>\n",
       "      <td>beibei</td>\n",
       "      <td>29.825556</td>\n",
       "      <td>106.433889</td>\n",
       "    </tr>\n",
       "    <tr>\n",
       "      <th>29002</th>\n",
       "      <td>ph</td>\n",
       "      <td>mangarin</td>\n",
       "      <td>12.351148</td>\n",
       "      <td>121.098013</td>\n",
       "    </tr>\n",
       "    <tr>\n",
       "      <th>1006</th>\n",
       "      <td>az</td>\n",
       "      <td>pirsagi</td>\n",
       "      <td>40.564032</td>\n",
       "      <td>49.891300</td>\n",
       "    </tr>\n",
       "    <tr>\n",
       "      <th>21516</th>\n",
       "      <td>jp</td>\n",
       "      <td>konosu</td>\n",
       "      <td>36.050000</td>\n",
       "      <td>139.516667</td>\n",
       "    </tr>\n",
       "  </tbody>\n",
       "</table>\n",
       "</div>"
      ],
      "text/plain": [
       "      Country       City   Latitude   Longitude\n",
       "38088      ru  shalushka  43.532500   43.566111\n",
       "5842       cn     beibei  29.825556  106.433889\n",
       "29002      ph   mangarin  12.351148  121.098013\n",
       "1006       az    pirsagi  40.564032   49.891300\n",
       "21516      jp     konosu  36.050000  139.516667"
      ]
     },
     "execution_count": 150,
     "metadata": {},
     "output_type": "execute_result"
    }
   ],
   "source": [
    "#import CSV\n",
    "cities_pd = pd.read_csv(\"worldcities.csv\")\n",
    "cities_pd=cities_pd.sample(n=500)\n",
    "cities_pd.head()"
   ]
  },
  {
   "cell_type": "code",
   "execution_count": 151,
   "metadata": {},
   "outputs": [
    {
     "data": {
      "text/html": [
       "<div>\n",
       "<style scoped>\n",
       "    .dataframe tbody tr th:only-of-type {\n",
       "        vertical-align: middle;\n",
       "    }\n",
       "\n",
       "    .dataframe tbody tr th {\n",
       "        vertical-align: top;\n",
       "    }\n",
       "\n",
       "    .dataframe thead th {\n",
       "        text-align: right;\n",
       "    }\n",
       "</style>\n",
       "<table border=\"1\" class=\"dataframe\">\n",
       "  <thead>\n",
       "    <tr style=\"text-align: right;\">\n",
       "      <th></th>\n",
       "      <th>Country</th>\n",
       "      <th>City</th>\n",
       "      <th>Latitude</th>\n",
       "      <th>Longitude</th>\n",
       "      <th>Cloudiness</th>\n",
       "      <th>Date</th>\n",
       "      <th>Humidity</th>\n",
       "      <th>Max Temp</th>\n",
       "      <th>Wind Speed</th>\n",
       "    </tr>\n",
       "  </thead>\n",
       "  <tbody>\n",
       "    <tr>\n",
       "      <th>38088</th>\n",
       "      <td></td>\n",
       "      <td>shalushka</td>\n",
       "      <td>43.532500</td>\n",
       "      <td>43.566111</td>\n",
       "      <td></td>\n",
       "      <td></td>\n",
       "      <td></td>\n",
       "      <td></td>\n",
       "      <td></td>\n",
       "    </tr>\n",
       "    <tr>\n",
       "      <th>5842</th>\n",
       "      <td></td>\n",
       "      <td>beibei</td>\n",
       "      <td>29.825556</td>\n",
       "      <td>106.433889</td>\n",
       "      <td></td>\n",
       "      <td></td>\n",
       "      <td></td>\n",
       "      <td></td>\n",
       "      <td></td>\n",
       "    </tr>\n",
       "    <tr>\n",
       "      <th>29002</th>\n",
       "      <td></td>\n",
       "      <td>mangarin</td>\n",
       "      <td>12.351148</td>\n",
       "      <td>121.098013</td>\n",
       "      <td></td>\n",
       "      <td></td>\n",
       "      <td></td>\n",
       "      <td></td>\n",
       "      <td></td>\n",
       "    </tr>\n",
       "    <tr>\n",
       "      <th>1006</th>\n",
       "      <td></td>\n",
       "      <td>pirsagi</td>\n",
       "      <td>40.564032</td>\n",
       "      <td>49.891300</td>\n",
       "      <td></td>\n",
       "      <td></td>\n",
       "      <td></td>\n",
       "      <td></td>\n",
       "      <td></td>\n",
       "    </tr>\n",
       "    <tr>\n",
       "      <th>21516</th>\n",
       "      <td></td>\n",
       "      <td>konosu</td>\n",
       "      <td>36.050000</td>\n",
       "      <td>139.516667</td>\n",
       "      <td></td>\n",
       "      <td></td>\n",
       "      <td></td>\n",
       "      <td></td>\n",
       "      <td></td>\n",
       "    </tr>\n",
       "  </tbody>\n",
       "</table>\n",
       "</div>"
      ],
      "text/plain": [
       "      Country       City   Latitude   Longitude Cloudiness Date Humidity  \\\n",
       "38088          shalushka  43.532500   43.566111                            \n",
       "5842              beibei  29.825556  106.433889                            \n",
       "29002           mangarin  12.351148  121.098013                            \n",
       "1006             pirsagi  40.564032   49.891300                            \n",
       "21516             konosu  36.050000  139.516667                            \n",
       "\n",
       "      Max Temp Wind Speed  \n",
       "38088                      \n",
       "5842                       \n",
       "29002                      \n",
       "1006                       \n",
       "21516                      "
      ]
     },
     "execution_count": 151,
     "metadata": {},
     "output_type": "execute_result"
    }
   ],
   "source": [
    "#add columns to df\n",
    "#cities_pd[\"City\"] = \"\"\n",
    "cities_pd[\"Cloudiness\"] = \"\"\n",
    "cities_pd[\"Country\"] = \"\"\n",
    "cities_pd[\"Date\"] = \"\"\n",
    "cities_pd[\"Humidity\"] = \"\"\n",
    "#cities_pd[\"Latitude\"] = \"\"\n",
    "#cities_pd[\"Longitude\"] = \"\"\n",
    "cities_pd[\"Max Temp\"] = \"\"\n",
    "cities_pd[\"Wind Speed\"] = \"\"\n",
    "cities_pd.head()"
   ]
  },
  {
   "cell_type": "code",
   "execution_count": 152,
   "metadata": {},
   "outputs": [],
   "source": [
    "# Save config information\n",
    "url = \"http://api.openweathermap.org/data/2.5/weather?\"\n",
    "#format = \"json\"\n",
    "city = cities_pd['City']\n",
    "# Build query URL\n",
    "query_url = url + \"appid=\" + api_key1 + \"&q=\" + city"
   ]
  },
  {
   "cell_type": "code",
   "execution_count": 153,
   "metadata": {
    "scrolled": true
   },
   "outputs": [
    {
     "ename": "InvalidSchema",
     "evalue": "No connection adapters were found for '38088    http://api.openweathermap.org/data/2.5/weather...\n5842     http://api.openweathermap.org/data/2.5/weather...\n29002    http://api.openweathermap.org/data/2.5/weather...\n1006     http://api.openweathermap.org/data/2.5/weather...\n21516    http://api.openweathermap.org/data/2.5/weather...\n10610    http://api.openweathermap.org/data/2.5/weather...\n37242    http://api.openweathermap.org/data/2.5/weather...\n4612     http://api.openweathermap.org/data/2.5/weather...\n31508    http://api.openweathermap.org/data/2.5/weather...\n36413    http://api.openweathermap.org/data/2.5/weather...\n43583    http://api.openweathermap.org/data/2.5/weather...\n926      http://api.openweathermap.org/data/2.5/weather...\n28294    http://api.openweathermap.org/data/2.5/weather...\n21389    http://api.openweathermap.org/data/2.5/weather...\n8434     http://api.openweathermap.org/data/2.5/weather...\n19689    http://api.openweathermap.org/data/2.5/weather...\n32307    http://api.openweathermap.org/data/2.5/weather...\n16553    http://api.openweathermap.org/data/2.5/weather...\n25206    http://api.openweathermap.org/data/2.5/weather...\n35121    http://api.openweathermap.org/data/2.5/weather...\n1483     http://api.openweathermap.org/data/2.5/weather...\n30244    http://api.openweathermap.org/data/2.5/weather...\n379      http://api.openweathermap.org/data/2.5/weather...\n26554    http://api.openweathermap.org/data/2.5/weather...\n22279    http://api.openweathermap.org/data/2.5/weather...\n11660    http://api.openweathermap.org/data/2.5/weather...\n22147    http://api.openweathermap.org/data/2.5/weather...\n17238    http://api.openweathermap.org/data/2.5/weather...\n23002    http://api.openweathermap.org/data/2.5/weather...\n31234    http://api.openweathermap.org/data/2.5/weather...\n                               ...                        \n38504    http://api.openweathermap.org/data/2.5/weather...\n35034    http://api.openweathermap.org/data/2.5/weather...\n37057    http://api.openweathermap.org/data/2.5/weather...\n18374    http://api.openweathermap.org/data/2.5/weather...\n4601     http://api.openweathermap.org/data/2.5/weather...\n28092    http://api.openweathermap.org/data/2.5/weather...\n5231     http://api.openweathermap.org/data/2.5/weather...\n7511     http://api.openweathermap.org/data/2.5/weather...\n6959     http://api.openweathermap.org/data/2.5/weather...\n28595    http://api.openweathermap.org/data/2.5/weather...\n43820    http://api.openweathermap.org/data/2.5/weather...\n24559    http://api.openweathermap.org/data/2.5/weather...\n5161     http://api.openweathermap.org/data/2.5/weather...\n25889    http://api.openweathermap.org/data/2.5/weather...\n7532     http://api.openweathermap.org/data/2.5/weather...\n16522    http://api.openweathermap.org/data/2.5/weather...\n39756    http://api.openweathermap.org/data/2.5/weather...\n24991    http://api.openweathermap.org/data/2.5/weather...\n16089    http://api.openweathermap.org/data/2.5/weather...\n9388     http://api.openweathermap.org/data/2.5/weather...\n27068    http://api.openweathermap.org/data/2.5/weather...\n14581    http://api.openweathermap.org/data/2.5/weather...\n4727     http://api.openweathermap.org/data/2.5/weather...\n1270     http://api.openweathermap.org/data/2.5/weather...\n6809     http://api.openweathermap.org/data/2.5/weather...\n44769    http://api.openweathermap.org/data/2.5/weather...\n24247    http://api.openweathermap.org/data/2.5/weather...\n17352    http://api.openweathermap.org/data/2.5/weather...\n10147    http://api.openweathermap.org/data/2.5/weather...\n1075     http://api.openweathermap.org/data/2.5/weather...\nName: City, Length: 500, dtype: object'",
     "output_type": "error",
     "traceback": [
      "\u001b[1;31m---------------------------------------------------------------------------\u001b[0m",
      "\u001b[1;31mInvalidSchema\u001b[0m                             Traceback (most recent call last)",
      "\u001b[1;32m<ipython-input-153-e97f3e869bc0>\u001b[0m in \u001b[0;36m<module>\u001b[1;34m()\u001b[0m\n\u001b[0;32m      1\u001b[0m \u001b[1;31m# Get weather data\u001b[0m\u001b[1;33m\u001b[0m\u001b[1;33m\u001b[0m\u001b[0m\n\u001b[1;32m----> 2\u001b[1;33m \u001b[0mweather_data\u001b[0m \u001b[1;33m=\u001b[0m \u001b[0mrequests\u001b[0m\u001b[1;33m.\u001b[0m\u001b[0mget\u001b[0m\u001b[1;33m(\u001b[0m\u001b[0mquery_url\u001b[0m\u001b[1;33m)\u001b[0m\u001b[1;33m\u001b[0m\u001b[0m\n\u001b[0m\u001b[0;32m      3\u001b[0m \u001b[0mweather_json\u001b[0m \u001b[1;33m=\u001b[0m \u001b[0mweather_data\u001b[0m\u001b[1;33m.\u001b[0m\u001b[0mjson\u001b[0m\u001b[1;33m(\u001b[0m\u001b[1;33m)\u001b[0m\u001b[1;33m\u001b[0m\u001b[0m\n\u001b[0;32m      4\u001b[0m \u001b[1;33m\u001b[0m\u001b[0m\n\u001b[0;32m      5\u001b[0m \u001b[1;31m# Get the temperature from the response\u001b[0m\u001b[1;33m\u001b[0m\u001b[1;33m\u001b[0m\u001b[0m\n",
      "\u001b[1;32m~\\AppData\\Local\\Continuum\\anaconda3\\lib\\site-packages\\requests\\api.py\u001b[0m in \u001b[0;36mget\u001b[1;34m(url, params, **kwargs)\u001b[0m\n\u001b[0;32m     70\u001b[0m \u001b[1;33m\u001b[0m\u001b[0m\n\u001b[0;32m     71\u001b[0m     \u001b[0mkwargs\u001b[0m\u001b[1;33m.\u001b[0m\u001b[0msetdefault\u001b[0m\u001b[1;33m(\u001b[0m\u001b[1;34m'allow_redirects'\u001b[0m\u001b[1;33m,\u001b[0m \u001b[1;32mTrue\u001b[0m\u001b[1;33m)\u001b[0m\u001b[1;33m\u001b[0m\u001b[0m\n\u001b[1;32m---> 72\u001b[1;33m     \u001b[1;32mreturn\u001b[0m \u001b[0mrequest\u001b[0m\u001b[1;33m(\u001b[0m\u001b[1;34m'get'\u001b[0m\u001b[1;33m,\u001b[0m \u001b[0murl\u001b[0m\u001b[1;33m,\u001b[0m \u001b[0mparams\u001b[0m\u001b[1;33m=\u001b[0m\u001b[0mparams\u001b[0m\u001b[1;33m,\u001b[0m \u001b[1;33m**\u001b[0m\u001b[0mkwargs\u001b[0m\u001b[1;33m)\u001b[0m\u001b[1;33m\u001b[0m\u001b[0m\n\u001b[0m\u001b[0;32m     73\u001b[0m \u001b[1;33m\u001b[0m\u001b[0m\n\u001b[0;32m     74\u001b[0m \u001b[1;33m\u001b[0m\u001b[0m\n",
      "\u001b[1;32m~\\AppData\\Local\\Continuum\\anaconda3\\lib\\site-packages\\requests\\api.py\u001b[0m in \u001b[0;36mrequest\u001b[1;34m(method, url, **kwargs)\u001b[0m\n\u001b[0;32m     56\u001b[0m     \u001b[1;31m# cases, and look like a memory leak in others.\u001b[0m\u001b[1;33m\u001b[0m\u001b[1;33m\u001b[0m\u001b[0m\n\u001b[0;32m     57\u001b[0m     \u001b[1;32mwith\u001b[0m \u001b[0msessions\u001b[0m\u001b[1;33m.\u001b[0m\u001b[0mSession\u001b[0m\u001b[1;33m(\u001b[0m\u001b[1;33m)\u001b[0m \u001b[1;32mas\u001b[0m \u001b[0msession\u001b[0m\u001b[1;33m:\u001b[0m\u001b[1;33m\u001b[0m\u001b[0m\n\u001b[1;32m---> 58\u001b[1;33m         \u001b[1;32mreturn\u001b[0m \u001b[0msession\u001b[0m\u001b[1;33m.\u001b[0m\u001b[0mrequest\u001b[0m\u001b[1;33m(\u001b[0m\u001b[0mmethod\u001b[0m\u001b[1;33m=\u001b[0m\u001b[0mmethod\u001b[0m\u001b[1;33m,\u001b[0m \u001b[0murl\u001b[0m\u001b[1;33m=\u001b[0m\u001b[0murl\u001b[0m\u001b[1;33m,\u001b[0m \u001b[1;33m**\u001b[0m\u001b[0mkwargs\u001b[0m\u001b[1;33m)\u001b[0m\u001b[1;33m\u001b[0m\u001b[0m\n\u001b[0m\u001b[0;32m     59\u001b[0m \u001b[1;33m\u001b[0m\u001b[0m\n\u001b[0;32m     60\u001b[0m \u001b[1;33m\u001b[0m\u001b[0m\n",
      "\u001b[1;32m~\\AppData\\Local\\Continuum\\anaconda3\\lib\\site-packages\\requests\\sessions.py\u001b[0m in \u001b[0;36mrequest\u001b[1;34m(self, method, url, params, data, headers, cookies, files, auth, timeout, allow_redirects, proxies, hooks, stream, verify, cert, json)\u001b[0m\n\u001b[0;32m    506\u001b[0m         }\n\u001b[0;32m    507\u001b[0m         \u001b[0msend_kwargs\u001b[0m\u001b[1;33m.\u001b[0m\u001b[0mupdate\u001b[0m\u001b[1;33m(\u001b[0m\u001b[0msettings\u001b[0m\u001b[1;33m)\u001b[0m\u001b[1;33m\u001b[0m\u001b[0m\n\u001b[1;32m--> 508\u001b[1;33m         \u001b[0mresp\u001b[0m \u001b[1;33m=\u001b[0m \u001b[0mself\u001b[0m\u001b[1;33m.\u001b[0m\u001b[0msend\u001b[0m\u001b[1;33m(\u001b[0m\u001b[0mprep\u001b[0m\u001b[1;33m,\u001b[0m \u001b[1;33m**\u001b[0m\u001b[0msend_kwargs\u001b[0m\u001b[1;33m)\u001b[0m\u001b[1;33m\u001b[0m\u001b[0m\n\u001b[0m\u001b[0;32m    509\u001b[0m \u001b[1;33m\u001b[0m\u001b[0m\n\u001b[0;32m    510\u001b[0m         \u001b[1;32mreturn\u001b[0m \u001b[0mresp\u001b[0m\u001b[1;33m\u001b[0m\u001b[0m\n",
      "\u001b[1;32m~\\AppData\\Local\\Continuum\\anaconda3\\lib\\site-packages\\requests\\sessions.py\u001b[0m in \u001b[0;36msend\u001b[1;34m(self, request, **kwargs)\u001b[0m\n\u001b[0;32m    610\u001b[0m \u001b[1;33m\u001b[0m\u001b[0m\n\u001b[0;32m    611\u001b[0m         \u001b[1;31m# Get the appropriate adapter to use\u001b[0m\u001b[1;33m\u001b[0m\u001b[1;33m\u001b[0m\u001b[0m\n\u001b[1;32m--> 612\u001b[1;33m         \u001b[0madapter\u001b[0m \u001b[1;33m=\u001b[0m \u001b[0mself\u001b[0m\u001b[1;33m.\u001b[0m\u001b[0mget_adapter\u001b[0m\u001b[1;33m(\u001b[0m\u001b[0murl\u001b[0m\u001b[1;33m=\u001b[0m\u001b[0mrequest\u001b[0m\u001b[1;33m.\u001b[0m\u001b[0murl\u001b[0m\u001b[1;33m)\u001b[0m\u001b[1;33m\u001b[0m\u001b[0m\n\u001b[0m\u001b[0;32m    613\u001b[0m \u001b[1;33m\u001b[0m\u001b[0m\n\u001b[0;32m    614\u001b[0m         \u001b[1;31m# Start time (approximately) of the request\u001b[0m\u001b[1;33m\u001b[0m\u001b[1;33m\u001b[0m\u001b[0m\n",
      "\u001b[1;32m~\\AppData\\Local\\Continuum\\anaconda3\\lib\\site-packages\\requests\\sessions.py\u001b[0m in \u001b[0;36mget_adapter\u001b[1;34m(self, url)\u001b[0m\n\u001b[0;32m    701\u001b[0m \u001b[1;33m\u001b[0m\u001b[0m\n\u001b[0;32m    702\u001b[0m         \u001b[1;31m# Nothing matches :-/\u001b[0m\u001b[1;33m\u001b[0m\u001b[1;33m\u001b[0m\u001b[0m\n\u001b[1;32m--> 703\u001b[1;33m         \u001b[1;32mraise\u001b[0m \u001b[0mInvalidSchema\u001b[0m\u001b[1;33m(\u001b[0m\u001b[1;34m\"No connection adapters were found for '%s'\"\u001b[0m \u001b[1;33m%\u001b[0m \u001b[0murl\u001b[0m\u001b[1;33m)\u001b[0m\u001b[1;33m\u001b[0m\u001b[0m\n\u001b[0m\u001b[0;32m    704\u001b[0m \u001b[1;33m\u001b[0m\u001b[0m\n\u001b[0;32m    705\u001b[0m     \u001b[1;32mdef\u001b[0m \u001b[0mclose\u001b[0m\u001b[1;33m(\u001b[0m\u001b[0mself\u001b[0m\u001b[1;33m)\u001b[0m\u001b[1;33m:\u001b[0m\u001b[1;33m\u001b[0m\u001b[0m\n",
      "\u001b[1;31mInvalidSchema\u001b[0m: No connection adapters were found for '38088    http://api.openweathermap.org/data/2.5/weather...\n5842     http://api.openweathermap.org/data/2.5/weather...\n29002    http://api.openweathermap.org/data/2.5/weather...\n1006     http://api.openweathermap.org/data/2.5/weather...\n21516    http://api.openweathermap.org/data/2.5/weather...\n10610    http://api.openweathermap.org/data/2.5/weather...\n37242    http://api.openweathermap.org/data/2.5/weather...\n4612     http://api.openweathermap.org/data/2.5/weather...\n31508    http://api.openweathermap.org/data/2.5/weather...\n36413    http://api.openweathermap.org/data/2.5/weather...\n43583    http://api.openweathermap.org/data/2.5/weather...\n926      http://api.openweathermap.org/data/2.5/weather...\n28294    http://api.openweathermap.org/data/2.5/weather...\n21389    http://api.openweathermap.org/data/2.5/weather...\n8434     http://api.openweathermap.org/data/2.5/weather...\n19689    http://api.openweathermap.org/data/2.5/weather...\n32307    http://api.openweathermap.org/data/2.5/weather...\n16553    http://api.openweathermap.org/data/2.5/weather...\n25206    http://api.openweathermap.org/data/2.5/weather...\n35121    http://api.openweathermap.org/data/2.5/weather...\n1483     http://api.openweathermap.org/data/2.5/weather...\n30244    http://api.openweathermap.org/data/2.5/weather...\n379      http://api.openweathermap.org/data/2.5/weather...\n26554    http://api.openweathermap.org/data/2.5/weather...\n22279    http://api.openweathermap.org/data/2.5/weather...\n11660    http://api.openweathermap.org/data/2.5/weather...\n22147    http://api.openweathermap.org/data/2.5/weather...\n17238    http://api.openweathermap.org/data/2.5/weather...\n23002    http://api.openweathermap.org/data/2.5/weather...\n31234    http://api.openweathermap.org/data/2.5/weather...\n                               ...                        \n38504    http://api.openweathermap.org/data/2.5/weather...\n35034    http://api.openweathermap.org/data/2.5/weather...\n37057    http://api.openweathermap.org/data/2.5/weather...\n18374    http://api.openweathermap.org/data/2.5/weather...\n4601     http://api.openweathermap.org/data/2.5/weather...\n28092    http://api.openweathermap.org/data/2.5/weather...\n5231     http://api.openweathermap.org/data/2.5/weather...\n7511     http://api.openweathermap.org/data/2.5/weather...\n6959     http://api.openweathermap.org/data/2.5/weather...\n28595    http://api.openweathermap.org/data/2.5/weather...\n43820    http://api.openweathermap.org/data/2.5/weather...\n24559    http://api.openweathermap.org/data/2.5/weather...\n5161     http://api.openweathermap.org/data/2.5/weather...\n25889    http://api.openweathermap.org/data/2.5/weather...\n7532     http://api.openweathermap.org/data/2.5/weather...\n16522    http://api.openweathermap.org/data/2.5/weather...\n39756    http://api.openweathermap.org/data/2.5/weather...\n24991    http://api.openweathermap.org/data/2.5/weather...\n16089    http://api.openweathermap.org/data/2.5/weather...\n9388     http://api.openweathermap.org/data/2.5/weather...\n27068    http://api.openweathermap.org/data/2.5/weather...\n14581    http://api.openweathermap.org/data/2.5/weather...\n4727     http://api.openweathermap.org/data/2.5/weather...\n1270     http://api.openweathermap.org/data/2.5/weather...\n6809     http://api.openweathermap.org/data/2.5/weather...\n44769    http://api.openweathermap.org/data/2.5/weather...\n24247    http://api.openweathermap.org/data/2.5/weather...\n17352    http://api.openweathermap.org/data/2.5/weather...\n10147    http://api.openweathermap.org/data/2.5/weather...\n1075     http://api.openweathermap.org/data/2.5/weather...\nName: City, Length: 500, dtype: object'"
     ]
    }
   ],
   "source": [
    "# Get weather data\n",
    "weather_data = requests.get(query_url)\n",
    "weather_json = weather_data.json()\n",
    "\n",
    "# Get the temperature from the response\n",
    "print(f\"The weather API responded with: {weather_json}.\")"
   ]
  },
  {
   "cell_type": "code",
   "execution_count": null,
   "metadata": {
    "scrolled": true
   },
   "outputs": [],
   "source": [
    "#cities_response = requests.get(f\"{url}cities?format={format}\").json()\n",
    "#cities = cities_response[0]\n",
    "\n",
    "#for city in cities:\n",
    "    #print(city[\"name\"])"
   ]
  },
  {
   "cell_type": "code",
   "execution_count": null,
   "metadata": {},
   "outputs": [],
   "source": [
    "cities_pd.head()"
   ]
  },
  {
   "cell_type": "code",
   "execution_count": null,
   "metadata": {},
   "outputs": [],
   "source": [
    "cities = []\n",
    "latitude = []\n",
    "longiude = []\n",
    "cloudiness = []\n",
    "date = []\n",
    "humidity = []\n",
    "max_temp = []\n",
    "wind_speed = []\n",
    "\n",
    "#loop through cities to make API request & append results\n",
    "for city in cities_pd:\n",
    "    response = requests.get(query_url + city).json()\n",
    "    cloudiness.append(response['weather']['clouds'])\n",
    "    date.append(response['date']['date'])\n",
    "    humidity.append(response['main']['humidity'])\n",
    "    maxtemp.append(response['main']['temp_max'])\n",
    "    windspeed.append(response['wind']['speed'])\n",
    "   \n",
    "  except:\n",
    "        continue\n",
    "\n",
    "    "
   ]
  },
  {
   "cell_type": "code",
   "execution_count": null,
   "metadata": {},
   "outputs": [],
   "source": [
    "# set up params\n",
    "params = {\n",
    "    \"key\": api_key1,\n",
    "    \"weather\": \"clouds\",\n",
    "    \"date\": \"date\",\n",
    "    \"main\": \"humidity\",\n",
    "    \"main\": \"temp_max\",\n",
    "    \"wind\": \"speed\",\n",
    "    }\n",
    "\n",
    "\n",
    "# Counter\n",
    "row_count = 0\n",
    "\n",
    "# Loop through and grab the lat/lng using Google maps\n",
    "for index, row in cities_pd.iterrows():\n",
    "\n",
    "    # update params with zipcode each loop\n",
    "    params['wind'] = row['speed']\n",
    "\n",
    "    base_url = \"http://api.openweathermap.org/data/2.5/weather?\"\n",
    "\n",
    "    # Print log to ensure loop is working correctly\n",
    "    print(\"Now retrieving city # \" + str(row_count))\n",
    "    row_count += 1\n",
    "\n",
    "    # Run requests to grab the JSON at the requested URL\n",
    "    zip_location = requests.get(base_url, params=params)\n",
    "    print(zip_location.url)\n",
    "\n",
    "   # zip_location = zip_location.json()\n",
    "    \n",
    "      # results = response.get('results')\n",
    "    #if (results):\n",
    "      #  restr = response['results'][0]\n",
    "      #  print(f\"Closest {restr_type} restaurant is {restr.get('name', 'Unknown')}.\")\n",
    "      #  types_df.set_value(index, 'name', restr.get('name', ''))\n",
    "       # types_df.set_value(index, 'address', restr.get('vicinity', ''))\n",
    "        #types_df.set_value(index, 'price_level', restr.get('price_level', ''))\n",
    "       # types_df.set_value(index, 'rating', restr.get('rating', ''))\n",
    "   # else:\n",
    "  #      print(\"No results for \" + restr_type)\n",
    "  #  print(\"------------\")"
   ]
  },
  {
   "cell_type": "code",
   "execution_count": null,
   "metadata": {},
   "outputs": [],
   "source": [
    "cities_pd.head()"
   ]
  },
  {
   "cell_type": "code",
   "execution_count": null,
   "metadata": {},
   "outputs": [],
   "source": [
    "print(f\"cloudiness: {cloudiness}\")\n",
    "print(f\"date: {date}\")\n",
    "print(f\"humidity: {humidity}\")\n",
    "print(f\"max temp: {max_temp}\")\n",
    "print(f\"windspeed: {wind_speed}\")\n"
   ]
  },
  {
   "cell_type": "code",
   "execution_count": null,
   "metadata": {},
   "outputs": [],
   "source": [
    "weather_data = {\"City\": cities, \"Latitude\": latitude, \"Longitude\": longitude, \"Cloudiness\": cloudiness, \"Date\": date, \"Humidity\" : humidity, \"Wind speed\": wind_speed}\n",
    "weather_data = pd.DataFrame(weather_data)\n",
    "weather_data"
   ]
  },
  {
   "cell_type": "code",
   "execution_count": null,
   "metadata": {},
   "outputs": [],
   "source": [
    "# temp vs lat plot\n",
    "plt.scatter(weather_data[\"max_temp\"], weather_data[\"latitude\"], marker=\"o\")\n",
    "\n",
    "#plot labels\n",
    "plt.title(\"Max Temp vs Latitude\")\n",
    "plt.ylabel(\"Max Temp (F)\")\n",
    "plt.xlabel(\"Latitude\")\n",
    "plt.grid(True)\n",
    "\n",
    "plt.show"
   ]
  },
  {
   "cell_type": "code",
   "execution_count": null,
   "metadata": {},
   "outputs": [],
   "source": [
    "# humidity vs lat plot\n",
    "plt.scatter(weather_data[\"humidity\"], weather_data[\"latitude\"], marker=\"o\")\n",
    "\n",
    "#plot labels\n",
    "plt.title(\"Humidity vs Latitude\")\n",
    "plt.ylabel(\"Humidity %\")\n",
    "plt.xlabel(\"Latitude\")\n",
    "plt.grid(True)\n",
    "\n",
    "plt.show"
   ]
  },
  {
   "cell_type": "code",
   "execution_count": null,
   "metadata": {},
   "outputs": [],
   "source": [
    "# wind speed vs lat plot\n",
    "plt.scatter(weather_data[\"wind_speed\"], weather_data[\"latitude\"], marker=\"o\")\n",
    "\n",
    "#plot labels\n",
    "plt.title(\"Wind Speed vs Latitude\")\n",
    "plt.ylabel(\"Humidity %\")\n",
    "plt.xlabel(\"Latitude\")\n",
    "plt.grid(True)\n",
    "\n",
    "plt.show"
   ]
  },
  {
   "cell_type": "code",
   "execution_count": null,
   "metadata": {},
   "outputs": [],
   "source": [
    "# cloudiness vs lat plot\n",
    "plt.scatter(weather_data[\"cloudiness\"], weather_data[\"latitude\"], marker=\"o\")\n",
    "\n",
    "#plot labels\n",
    "plt.title(\"Cloudiness vs Latitude\")\n",
    "plt.ylabel(\"Humidity %\")\n",
    "plt.xlabel(\"Latitude\")\n",
    "plt.grid(True)\n",
    "\n",
    "plt.show"
   ]
  },
  {
   "cell_type": "code",
   "execution_count": null,
   "metadata": {},
   "outputs": [],
   "source": []
  },
  {
   "cell_type": "code",
   "execution_count": null,
   "metadata": {},
   "outputs": [],
   "source": []
  },
  {
   "cell_type": "code",
   "execution_count": null,
   "metadata": {},
   "outputs": [],
   "source": []
  },
  {
   "cell_type": "code",
   "execution_count": null,
   "metadata": {},
   "outputs": [],
   "source": []
  }
 ],
 "metadata": {
  "kernelspec": {
   "display_name": "Python 3",
   "language": "python",
   "name": "python3"
  },
  "varInspector": {
   "cols": {
    "lenName": 16,
    "lenType": 16,
    "lenVar": 40
   },
   "kernels_config": {
    "python": {
     "delete_cmd_postfix": "",
     "delete_cmd_prefix": "del ",
     "library": "var_list.py",
     "varRefreshCmd": "print(var_dic_list())"
    },
    "r": {
     "delete_cmd_postfix": ") ",
     "delete_cmd_prefix": "rm(",
     "library": "var_list.r",
     "varRefreshCmd": "cat(var_dic_list()) "
    }
   },
   "types_to_exclude": [
    "module",
    "function",
    "builtin_function_or_method",
    "instance",
    "_Feature"
   ],
   "window_display": false
  }
 },
 "nbformat": 4,
 "nbformat_minor": 2
}
